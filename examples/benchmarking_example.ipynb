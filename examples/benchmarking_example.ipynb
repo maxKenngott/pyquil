{
 "cells": [
  {
   "cell_type": "markdown",
   "metadata": {},
   "source": [
    "### The below is an example of how to run some benchmarking routines from within Pyquil. The first is conjugating a Pauli by a Clifford element, and the second is constructing randomized benchmarking sequences."
   ]
  },
  {
   "cell_type": "code",
   "execution_count": 100,
   "metadata": {},
   "outputs": [],
   "source": [
    "from pyquil import Program, get_qc\n",
    "from pyquil.gates import CNOT, X,Z, Y, PHASE, H\n",
    "from pyquil.paulis import PauliTerm\n",
    "from pyquil.api import get_benchmarker\n",
    "import numpy as np"
   ]
  },
  {
   "cell_type": "code",
   "execution_count": 101,
   "metadata": {},
   "outputs": [],
   "source": [
    "bench = get_benchmarker()"
   ]
  },
  {
   "cell_type": "code",
   "execution_count": 102,
   "metadata": {},
   "outputs": [],
   "source": [
    "clifford = Program().inst(X(1000))"
   ]
  },
  {
   "cell_type": "code",
   "execution_count": 103,
   "metadata": {},
   "outputs": [],
   "source": [
    "pauli = PauliTerm(\"Y\", 1000)"
   ]
  },
  {
   "cell_type": "code",
   "execution_count": 104,
   "metadata": {
    "scrolled": true
   },
   "outputs": [
    {
     "name": "stdout",
     "output_type": "stream",
     "text": [
      "(-1+0j)*Y1000\n"
     ]
    }
   ],
   "source": [
    "print(bench.apply_clifford_to_pauli(clifford, pauli))"
   ]
  },
  {
   "cell_type": "code",
   "execution_count": 105,
   "metadata": {},
   "outputs": [],
   "source": [
    "clifford = Program().inst(X(0), CNOT(0, 1), Y(1), Z(0))"
   ]
  },
  {
   "cell_type": "code",
   "execution_count": 106,
   "metadata": {},
   "outputs": [],
   "source": [
    "pauli = PauliTerm(\"Y\", 0) * PauliTerm(\"Z\", 1, 1.j)"
   ]
  },
  {
   "cell_type": "code",
   "execution_count": 107,
   "metadata": {},
   "outputs": [
    {
     "name": "stdout",
     "output_type": "stream",
     "text": [
      "1j*X0*Y1\n"
     ]
    }
   ],
   "source": [
    "print(bench.apply_clifford_to_pauli(clifford, pauli))"
   ]
  },
  {
   "cell_type": "code",
   "execution_count": 108,
   "metadata": {},
   "outputs": [],
   "source": [
    "gateset_1q = [PHASE(np.pi/2, 0), H(0)]"
   ]
  },
  {
   "cell_type": "code",
   "execution_count": 109,
   "metadata": {},
   "outputs": [],
   "source": [
    "progs = bench.generate_rb_sequence(50, gateset_1q)"
   ]
  },
  {
   "cell_type": "code",
   "execution_count": 113,
   "metadata": {},
   "outputs": [
    {
     "name": "stdout",
     "output_type": "stream",
     "text": [
      "PHASE(pi/2) 0\n",
      "PHASE(pi/2) 0\n",
      "PHASE(pi/2) 0\n",
      "\n"
     ]
    }
   ],
   "source": [
    "print(progs[0])"
   ]
  },
  {
   "cell_type": "code",
   "execution_count": 114,
   "metadata": {},
   "outputs": [
    {
     "data": {
      "text/plain": [
       "50"
      ]
     },
     "execution_count": 114,
     "metadata": {},
     "output_type": "execute_result"
    }
   ],
   "source": [
    "len(progs)"
   ]
  },
  {
   "cell_type": "code",
   "execution_count": 111,
   "metadata": {},
   "outputs": [],
   "source": [
    "gateset_2q = [PHASE(np.pi/2, 0), H(0), CNOT(0, 1), H(1), PHASE(np.pi/2, 1)]"
   ]
  },
  {
   "cell_type": "code",
   "execution_count": 112,
   "metadata": {},
   "outputs": [
    {
     "name": "stdout",
     "output_type": "stream",
     "text": [
      "PHASE(pi/2) 1\n",
      "CNOT 0 1\n",
      "H 1\n",
      "H 0\n",
      "CNOT 0 1\n",
      "PHASE(pi/2) 1\n",
      "PHASE(pi/2) 0\n",
      "\n"
     ]
    }
   ],
   "source": [
    "progs_2q = bench.generate_rb_sequence(2, gateset_2q)\n",
    "print(progs_2q[0])"
   ]
  }
 ],
 "metadata": {
  "kernelspec": {
   "display_name": "Python 3",
   "language": "python",
   "name": "python3"
  },
  "language_info": {
   "codemirror_mode": {
    "name": "ipython",
    "version": 3
   },
   "file_extension": ".py",
   "mimetype": "text/x-python",
   "name": "python",
   "nbconvert_exporter": "python",
   "pygments_lexer": "ipython3",
   "version": "3.6.7"
  }
 },
 "nbformat": 4,
 "nbformat_minor": 2
}
